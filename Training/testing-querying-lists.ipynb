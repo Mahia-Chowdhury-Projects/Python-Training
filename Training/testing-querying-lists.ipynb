{
 "cells": [
  {
   "cell_type": "markdown",
   "metadata": {},
   "source": [
    "# Testing and Querying Lists\n",
    "\n",
    "Today, we will discuss the following:\n",
    "  * Testing\n",
    "  * Some algorithms surrounding querying information from a list"
   ]
  },
  {
   "cell_type": "markdown",
   "metadata": {},
   "source": [
    "### `isVowel` function\n",
    "\n",
    "\n",
    "Consider the `isVowel` functions below that take a character as input and returns whether or not it is a vowel and the `countVowels` function that counts the number of vowels in a string."
   ]
  },
  {
   "cell_type": "code",
   "execution_count": 1,
   "metadata": {},
   "outputs": [],
   "source": [
    "def isVowel(char):\n",
    "    \"\"\"Simpler isVowel function\"\"\"\n",
    "    c = char.lower() # convert to lower case first\n",
    "    return c in 'aeiou'\n",
    "\n",
    "def countVowels(word):\n",
    "    '''Takes a string as input and returns \n",
    "    the number of vowels in it'''\n",
    "    \n",
    "    count = 0 # initialize the counter\n",
    "    \n",
    "    # iterate over the word one character at a time\n",
    "    for char in word: \n",
    "        if isVowel(char): # call helper function\n",
    "            count += 1\n",
    "    return count\n"
   ]
  },
  {
   "cell_type": "markdown",
   "metadata": {},
   "source": [
    "## Filtering all names in a list with the most vowels\n",
    "\n",
    "Imagine you wanted to maximum number of vowels in any name in a given list of names. The function below implements this logic. How would you change this to return the individuals with the least number of vowels in their name?"
   ]
  },
  {
   "cell_type": "code",
   "execution_count": 8,
   "metadata": {},
   "outputs": [],
   "source": [
    "def mostVowels(nameList):\n",
    "    \"\"\"Takes a list of strings nameList and returns a number\n",
    "    corresponding to the most number of vowels in any name\"\"\"\n",
    "    \n",
    "    maxSoFar = 0\n",
    "    for name in nameList:\n",
    "        count = countVowels(name)\n",
    "        if count > maxSoFar:\n",
    "            # update found a name with more vowels\n",
    "            maxSoFar = count\n",
    "    \n",
    "    return maxSoFar"
   ]
  },
  {
   "cell_type": "code",
   "execution_count": 9,
   "metadata": {},
   "outputs": [
    {
     "data": {
      "text/plain": [
       "5"
      ]
     },
     "execution_count": 9,
     "metadata": {},
     "output_type": "execute_result"
    }
   ],
   "source": [
    "mostVowels([\"Lida\", \"Mark\", \"Rohit\", \"Anna\", \"Genevieve\", \"Maximilian\"])"
   ]
  },
  {
   "cell_type": "markdown",
   "metadata": {},
   "source": [
    "## Filtering all names in a list with the least vowels\n",
    "\n",
    "How would you change the above code to return the individuals with the least number of vowels in their name? Here's one solution. But this isn't fully robust -- what happens when you're provided with any empty list of names? Think about how you could fix that."
   ]
  },
  {
   "cell_type": "code",
   "execution_count": 10,
   "metadata": {},
   "outputs": [],
   "source": [
    "def leastVowels(nameList):\n",
    "    \"\"\"Takes a list of strings nameList and returns a number\n",
    "    corresponding to the least number of vowels in any name\"\"\"\n",
    "    \n",
    "    minSoFar = len(nameList[0])\n",
    "    for name in nameList:\n",
    "        count = countVowels(name)\n",
    "        if count < minSoFar:\n",
    "            # update found a name with less vowels\n",
    "            minSoFar = count\n",
    "            \n",
    "    return minSoFar"
   ]
  },
  {
   "cell_type": "code",
   "execution_count": 11,
   "metadata": {},
   "outputs": [
    {
     "data": {
      "text/plain": [
       "1"
      ]
     },
     "execution_count": 11,
     "metadata": {},
     "output_type": "execute_result"
    }
   ],
   "source": [
    "leastVowels([\"Lida\", \"Mark\", \"Rohit\", \"Anna\", \"Genevieve\", \"Maximilian\"])"
   ]
  },
  {
   "cell_type": "code",
   "execution_count": 12,
   "metadata": {},
   "outputs": [
    {
     "ename": "IndexError",
     "evalue": "list index out of range",
     "output_type": "error",
     "traceback": [
      "\u001b[0;31m---------------------------------------------------------------------------\u001b[0m",
      "\u001b[0;31mIndexError\u001b[0m                                Traceback (most recent call last)",
      "Cell \u001b[0;32mIn[12], line 1\u001b[0m\n\u001b[0;32m----> 1\u001b[0m \u001b[43mleastVowels\u001b[49m\u001b[43m(\u001b[49m\u001b[43m[\u001b[49m\u001b[43m]\u001b[49m\u001b[43m)\u001b[49m \u001b[38;5;66;03m# how would you modify the code to fix this error?\u001b[39;00m\n",
      "Cell \u001b[0;32mIn[10], line 5\u001b[0m, in \u001b[0;36mleastVowels\u001b[0;34m(nameList)\u001b[0m\n\u001b[1;32m      1\u001b[0m \u001b[38;5;28;01mdef\u001b[39;00m \u001b[38;5;21mleastVowels\u001b[39m(nameList):\n\u001b[1;32m      2\u001b[0m \u001b[38;5;250m    \u001b[39m\u001b[38;5;124;03m\"\"\"Takes a list of strings nameList and returns a number\u001b[39;00m\n\u001b[1;32m      3\u001b[0m \u001b[38;5;124;03m    corresponding to the least number of vowels in any name\"\"\"\u001b[39;00m\n\u001b[0;32m----> 5\u001b[0m     minSoFar \u001b[38;5;241m=\u001b[39m \u001b[38;5;28mlen\u001b[39m(\u001b[43mnameList\u001b[49m\u001b[43m[\u001b[49m\u001b[38;5;241;43m0\u001b[39;49m\u001b[43m]\u001b[49m)\n\u001b[1;32m      6\u001b[0m     \u001b[38;5;28;01mfor\u001b[39;00m name \u001b[38;5;129;01min\u001b[39;00m nameList:\n\u001b[1;32m      7\u001b[0m         count \u001b[38;5;241m=\u001b[39m countVowels(name)\n",
      "\u001b[0;31mIndexError\u001b[0m: list index out of range"
     ]
    }
   ],
   "source": [
    "leastVowels([]) # how would you modify the code to fix this error?"
   ]
  }
 ],
 "metadata": {
  "kernelspec": {
   "display_name": "Python 3",
   "language": "python",
   "name": "python3"
  },
  "language_info": {
   "codemirror_mode": {
    "name": "ipython",
    "version": 3
   },
   "file_extension": ".py",
   "mimetype": "text/x-python",
   "name": "python",
   "nbconvert_exporter": "python",
   "pygments_lexer": "ipython3",
   "version": "3.10.9"
  },
  "vscode": {
   "interpreter": {
    "hash": "93c843fa688db2cf10ee06edcee2e24de13e9806bcfe66c2febf0a33cc2802c1"
   }
  }
 },
 "nbformat": 4,
 "nbformat_minor": 1
}

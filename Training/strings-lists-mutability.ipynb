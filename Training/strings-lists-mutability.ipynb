{
 "cells": [
  {
   "cell_type": "markdown",
   "metadata": {},
   "source": [
    "# Strings, Lists, and Mutability\n",
    "\n",
    "Today, we will discuss the following:\n",
    "  * Review sequence operators in the context of strings\n",
    "  * Discuss mutability and aliasing in Python"
   ]
  },
  {
   "cell_type": "markdown",
   "metadata": {},
   "source": [
    "## Sequence operators on strings\n",
    "\n",
    "Recall that the sequence operators are general in the sense that they can work on any object that is considered a sequence. This includes strings, which are just a sequence of characters!"
   ]
  },
  {
   "cell_type": "code",
   "execution_count": null,
   "metadata": {},
   "outputs": [],
   "source": [
    "\"a\" in \"aeiou\"  # in operator"
   ]
  },
  {
   "cell_type": "code",
   "execution_count": null,
   "metadata": {},
   "outputs": [],
   "source": [
    "\"b\" not in \"aeiou\" # not in operator"
   ]
  },
  {
   "cell_type": "code",
   "execution_count": null,
   "metadata": {},
   "outputs": [],
   "source": [
    "\"CS\" + \"134\" # concatenation with +"
   ]
  },
  {
   "cell_type": "code",
   "execution_count": null,
   "metadata": {},
   "outputs": [],
   "source": [
    "\"abc\" * 3 # * operator"
   ]
  },
  {
   "cell_type": "code",
   "execution_count": null,
   "metadata": {},
   "outputs": [],
   "source": [
    "myString = \"abc\" \n",
    "myString[1]  # indexing with []"
   ]
  },
  {
   "cell_type": "code",
   "execution_count": null,
   "metadata": {},
   "outputs": [],
   "source": [
    "myString[1:2] # slicing with [:]"
   ]
  },
  {
   "cell_type": "code",
   "execution_count": null,
   "metadata": {},
   "outputs": [],
   "source": [
    "# using negative step in slicing\n",
    "myString[::-1]"
   ]
  },
  {
   "cell_type": "code",
   "execution_count": null,
   "metadata": {},
   "outputs": [],
   "source": [
    "len(myString) # length function"
   ]
  },
  {
   "cell_type": "code",
   "execution_count": null,
   "metadata": {},
   "outputs": [],
   "source": [
    "# min function (finds smallest character)\n",
    "min(myString) "
   ]
  },
  {
   "cell_type": "code",
   "execution_count": null,
   "metadata": {},
   "outputs": [],
   "source": [
    "# max function (finds largest character)\n",
    "max(myString) "
   ]
  },
  {
   "cell_type": "markdown",
   "metadata": {},
   "source": [
    "<a id=\"sec1e\"></a>\n",
    "### `lower()` and `upper()` string methods \n",
    "\n",
    "In addition to functions, Python provides several built-in methods for manipulating strings.  Method are like functions but must be called using dot notation on specific strings.  We can ignore or manipulate case of strings, using the `.lower()` and `.upper()` string methods, which return a new string with the appropriate case."
   ]
  },
  {
   "cell_type": "code",
   "execution_count": null,
   "metadata": {},
   "outputs": [],
   "source": [
    "message = \"HELLLOOOO...!!!\""
   ]
  },
  {
   "cell_type": "code",
   "execution_count": null,
   "metadata": {},
   "outputs": [],
   "source": [
    "message.lower() # leaves non-alphabetic characters the same"
   ]
  },
  {
   "cell_type": "code",
   "execution_count": null,
   "metadata": {},
   "outputs": [],
   "source": [
    "song = \"$$ la la la laaa la $$...\""
   ]
  },
  {
   "cell_type": "code",
   "execution_count": null,
   "metadata": {},
   "outputs": [],
   "source": [
    "song.upper()"
   ]
  },
  {
   "cell_type": "markdown",
   "metadata": {},
   "source": [
    "### `isVowel` function\n",
    "\n",
    "\n",
    "Consider the two `isVowel` functions below that take a character as input and returns whether or not it is a vowel.  The second one is simpler than the first and takes advantage of both the `.lower()` string method and `in` string operator."
   ]
  },
  {
   "cell_type": "code",
   "execution_count": null,
   "metadata": {},
   "outputs": [],
   "source": [
    "def oldIsVowel(c):\n",
    "    \"\"\"isVowel function\"\"\"\n",
    "    return (c == 'a' or c == 'e' or c == 'i' or c == 'o' or c == 'u' \n",
    "            or c == 'A' or c == 'E' or c == 'I' or c == 'O' or c == 'U')"
   ]
  },
  {
   "cell_type": "code",
   "execution_count": null,
   "metadata": {},
   "outputs": [],
   "source": [
    "def isVowel(char):\n",
    "    \"\"\"Simpler isVowel function\"\"\"\n",
    "    c = char.lower() # convert to lower case first\n",
    "    return c in 'aeiou' "
   ]
  },
  {
   "cell_type": "code",
   "execution_count": null,
   "metadata": {},
   "outputs": [],
   "source": [
    "oldIsVowel('A')"
   ]
  },
  {
   "cell_type": "code",
   "execution_count": null,
   "metadata": {},
   "outputs": [],
   "source": [
    "isVowel('z')"
   ]
  },
  {
   "cell_type": "code",
   "execution_count": null,
   "metadata": {},
   "outputs": [],
   "source": [
    "isVowel('u')"
   ]
  },
  {
   "cell_type": "markdown",
   "metadata": {},
   "source": [
    "<a id=\"sec2\"></a>\n",
    "##  Towards Iteration:  Counting Vowels\n",
    "\n",
    "**Problem.**  Using our `isVowel()` function, let's write a function `countVowels()` that takes a string word as input and returns the number of vowels in the string (as an int).\n",
    "\n",
    "**Expected behavior:**\n",
    "```\n",
    ">>> countVowels('Williamstown')\n",
    "4\n",
    ">>> countVowels('Ephelia')\n",
    "4\n",
    "```\n",
    "\n",
    "**Re-using functions.** We will use `isVowel()` to test individual characters of the string, rather than starting from scratch. "
   ]
  },
  {
   "cell_type": "code",
   "execution_count": null,
   "metadata": {},
   "outputs": [],
   "source": [
    "def countVowels(word):\n",
    "    '''Takes a string as input and returns \n",
    "    the number of vowels in it'''\n",
    "    \n",
    "    count = 0 # initialize the counter\n",
    "    \n",
    "    # iterate over the word one character at a time\n",
    "    for char in word: \n",
    "        if isVowel(char): # call helper function\n",
    "            count += 1\n",
    "    return count\n"
   ]
  },
  {
   "cell_type": "code",
   "execution_count": null,
   "metadata": {},
   "outputs": [],
   "source": [
    "countVowels('Williams')"
   ]
  },
  {
   "cell_type": "code",
   "execution_count": null,
   "metadata": {},
   "outputs": [],
   "source": [
    "countVowels('Ephelia')"
   ]
  },
  {
   "cell_type": "markdown",
   "metadata": {},
   "source": [
    "##  Exercise: `vowelSeq`\n",
    "\n",
    "Define a function `vowelSeq` that takes a string word as input and returns a string containing all the vowels in word in the same order as they appear.\n",
    "\n",
    "Example function calls:\n",
    "```\n",
    ">>> vowelSeq(\"Chicago\")\n",
    "'iao'\n",
    ">>> vowelSeq(\"protein\")\n",
    "'oei'\n",
    ">>> vowelSeq(\"rhythm\")\n",
    "''\n",
    "```"
   ]
  },
  {
   "cell_type": "code",
   "execution_count": null,
   "metadata": {},
   "outputs": [],
   "source": [
    "def vowelSeq(word):\n",
    "    '''Returns the vowel subsequence in given word'''\n",
    "    vowels = \"\"  # accumulation variable\n",
    "    for char in word:\n",
    "        if isVowel(char): # if vowel\n",
    "            vowels += char # accumulate characters \n",
    "    return vowels"
   ]
  },
  {
   "cell_type": "code",
   "execution_count": null,
   "metadata": {},
   "outputs": [],
   "source": [
    "vowelSeq(\"Chicago\")"
   ]
  },
  {
   "cell_type": "code",
   "execution_count": null,
   "metadata": {},
   "outputs": [],
   "source": [
    "vowelSeq(\"protein\")"
   ]
  },
  {
   "cell_type": "code",
   "execution_count": null,
   "metadata": {},
   "outputs": [],
   "source": [
    "vowelSeq(\"rhythm\")"
   ]
  },
  {
   "cell_type": "markdown",
   "metadata": {},
   "source": [
    "## Mutability and Immutability in Python\n",
    "\n",
    "## Value vs Identity \n",
    "\n",
    "* An objects **identity** never changes in Python once it has been created.  You may think of it as the object’s address in memory\n",
    "* On the other hand, the **value** of some objects can change.  \n",
    "* Objects whose values can change are called **mutable**; objects whose values cannot change are called **immutable**\n",
    "\n",
    "* The `is` operator compares the identity of two objects, and the `==` operator compares the value (contents) of two objects.\n",
    "* The `id()` function returns an integer (like a memory address) representing its identity."
   ]
  },
  {
   "cell_type": "markdown",
   "metadata": {},
   "source": [
    "### Ints, Strings, Floats are Immutable \n",
    "\n",
    "Let's see how the values and identities change with immutable objects."
   ]
  },
  {
   "cell_type": "markdown",
   "metadata": {},
   "source": [
    "## Value vs Identity \n",
    "\n",
    "* An objects **identity** never changes in Python once it has been created.  You may think of it as the object’s address in memory\n",
    "* On the other hand, the **value** of some objects can change.  \n",
    "* Objects whose values can change are called **mutable**; objects whose values cannot change are called **immutable**\n",
    "\n",
    "* The `is` operator compares the identity of two objects, and the `==` operator compares the value (contents) of two objects.\n",
    "* The `id()` function returns an integer (like a memory address) representing its identity."
   ]
  },
  {
   "cell_type": "markdown",
   "metadata": {},
   "source": [
    "### Ints, Strings, Floats are Immutable \n",
    "\n",
    "Let's see how the values and identities change with immutable objects."
   ]
  },
  {
   "cell_type": "code",
   "execution_count": null,
   "metadata": {},
   "outputs": [],
   "source": [
    "num = 5\n",
    "id(num)"
   ]
  },
  {
   "cell_type": "code",
   "execution_count": null,
   "metadata": {},
   "outputs": [],
   "source": [
    "# the id changes!\n",
    "num = num + 1\n",
    "id(num) "
   ]
  },
  {
   "cell_type": "code",
   "execution_count": null,
   "metadata": {},
   "outputs": [],
   "source": [
    "word = \"Williams\"\n",
    "college = word"
   ]
  },
  {
   "cell_type": "code",
   "execution_count": null,
   "metadata": {},
   "outputs": [],
   "source": [
    "word == college"
   ]
  },
  {
   "cell_type": "code",
   "execution_count": null,
   "metadata": {},
   "outputs": [],
   "source": [
    "print(id(word), id(college))"
   ]
  },
  {
   "cell_type": "code",
   "execution_count": null,
   "metadata": {},
   "outputs": [],
   "source": [
    "# right now, word and college are the same object\n",
    "word is college"
   ]
  },
  {
   "cell_type": "code",
   "execution_count": null,
   "metadata": {},
   "outputs": [],
   "source": [
    "word = \"Amherst\""
   ]
  },
  {
   "cell_type": "code",
   "execution_count": null,
   "metadata": {},
   "outputs": [],
   "source": [
    "# after updating word, it's id changes\n",
    "# this happens because strings are immutable\n",
    "print(id(word), id(college))"
   ]
  },
  {
   "cell_type": "code",
   "execution_count": null,
   "metadata": {},
   "outputs": [],
   "source": [
    "word is college"
   ]
  },
  {
   "cell_type": "markdown",
   "metadata": {},
   "source": [
    "### All Sequence Operations Return New Sequences\n",
    "\n",
    "For both lists and strings, sequence operations return new sequences and do not change the value of the original sequence."
   ]
  },
  {
   "cell_type": "code",
   "execution_count": null,
   "metadata": {},
   "outputs": [],
   "source": [
    "name = \"sally\""
   ]
  },
  {
   "cell_type": "code",
   "execution_count": null,
   "metadata": {},
   "outputs": [],
   "source": [
    "id(name)"
   ]
  },
  {
   "cell_type": "code",
   "execution_count": null,
   "metadata": {},
   "outputs": [],
   "source": [
    "name = name[1:4]\n",
    "name"
   ]
  },
  {
   "cell_type": "code",
   "execution_count": null,
   "metadata": {},
   "outputs": [],
   "source": [
    "id(name)"
   ]
  },
  {
   "cell_type": "code",
   "execution_count": null,
   "metadata": {},
   "outputs": [],
   "source": [
    "word = 'Hello World!'"
   ]
  },
  {
   "cell_type": "code",
   "execution_count": null,
   "metadata": {},
   "outputs": [],
   "source": [
    "word.lower() # returns new string!"
   ]
  },
  {
   "cell_type": "code",
   "execution_count": null,
   "metadata": {},
   "outputs": [],
   "source": [
    "word # does not change"
   ]
  },
  {
   "cell_type": "code",
   "execution_count": null,
   "metadata": {},
   "outputs": [],
   "source": [
    "# list example\n",
    "a = [1, 2, 3]"
   ]
  },
  {
   "cell_type": "code",
   "execution_count": null,
   "metadata": {},
   "outputs": [],
   "source": [
    "id(a)"
   ]
  },
  {
   "cell_type": "code",
   "execution_count": null,
   "metadata": {},
   "outputs": [],
   "source": [
    "a = a[:]"
   ]
  },
  {
   "cell_type": "code",
   "execution_count": null,
   "metadata": {},
   "outputs": [],
   "source": [
    "id(a) # slicing a list returns a new list!"
   ]
  },
  {
   "cell_type": "markdown",
   "metadata": {},
   "source": [
    "### Lists are Mutable\n",
    "\n",
    "Let's see how the identities and values behave when using lists (which are mutable)."
   ]
  },
  {
   "cell_type": "code",
   "execution_count": null,
   "metadata": {},
   "outputs": [],
   "source": [
    "myList = [1, 2, 3]\n",
    "newList = [1, 2, 3]\n",
    "\n",
    "# list2 is an alias (a second name) for myList\n",
    "list2 = myList"
   ]
  },
  {
   "cell_type": "code",
   "execution_count": null,
   "metadata": {},
   "outputs": [],
   "source": [
    "# same values?  \n",
    "# yes, both lists contain same items [1, 2, 3]\n",
    "myList == newList "
   ]
  },
  {
   "cell_type": "code",
   "execution_count": null,
   "metadata": {},
   "outputs": [],
   "source": [
    "# same identities? \n",
    "# no, they are separate lists in memory\n",
    "myList is newList "
   ]
  },
  {
   "cell_type": "code",
   "execution_count": null,
   "metadata": {},
   "outputs": [],
   "source": [
    "# same values? \n",
    "myList == list2"
   ]
  },
  {
   "cell_type": "code",
   "execution_count": null,
   "metadata": {},
   "outputs": [],
   "source": [
    "# same identities?\n",
    "myList is list2"
   ]
  },
  {
   "cell_type": "code",
   "execution_count": null,
   "metadata": {},
   "outputs": [],
   "source": [
    "myList[-1] = 4\n",
    "myList"
   ]
  },
  {
   "cell_type": "code",
   "execution_count": null,
   "metadata": {},
   "outputs": [],
   "source": [
    "# has list2 changed?\n",
    "list2 "
   ]
  },
  {
   "cell_type": "code",
   "execution_count": null,
   "metadata": {},
   "outputs": [],
   "source": [
    "id(myList)"
   ]
  },
  {
   "cell_type": "code",
   "execution_count": null,
   "metadata": {},
   "outputs": [],
   "source": [
    "myList = myList + [5]\n",
    "myList"
   ]
  },
  {
   "cell_type": "code",
   "execution_count": null,
   "metadata": {},
   "outputs": [],
   "source": [
    "id(myList)"
   ]
  },
  {
   "cell_type": "code",
   "execution_count": null,
   "metadata": {},
   "outputs": [],
   "source": [
    "id(list2)"
   ]
  },
  {
   "cell_type": "markdown",
   "metadata": {},
   "source": [
    "## Understanding Aliasing \n",
    "\n",
    "Let us try out some more complicated examples that illustrate how aliasing manifests itself in Python."
   ]
  },
  {
   "cell_type": "code",
   "execution_count": null,
   "metadata": {},
   "outputs": [],
   "source": [
    "nums = [23, 19]\n",
    "words = ['hello', 'world']\n",
    "mixed = [12, nums, 'nice', words]"
   ]
  },
  {
   "cell_type": "code",
   "execution_count": null,
   "metadata": {},
   "outputs": [],
   "source": [
    "words.append('sky')"
   ]
  },
  {
   "cell_type": "code",
   "execution_count": null,
   "metadata": {},
   "outputs": [],
   "source": [
    "mixed"
   ]
  },
  {
   "cell_type": "code",
   "execution_count": null,
   "metadata": {},
   "outputs": [],
   "source": [
    "mixed[1].append(27)"
   ]
  },
  {
   "cell_type": "code",
   "execution_count": null,
   "metadata": {},
   "outputs": [],
   "source": [
    "nums"
   ]
  },
  {
   "cell_type": "code",
   "execution_count": null,
   "metadata": {},
   "outputs": [],
   "source": [
    "mixed"
   ]
  },
  {
   "cell_type": "code",
   "execution_count": null,
   "metadata": {},
   "outputs": [],
   "source": [
    "def mostVowels(nameList):\n",
    "    \"\"\"Takes a list of strings nameList and returns a list\n",
    "    of names with the most number of vowels\"\"\"\n",
    "    \n",
    "    maxSoFar = 0\n",
    "    result = []\n",
    "    for name in nameList:\n",
    "        count = countVowels(name)\n",
    "        if count > maxSoFar:\n",
    "            # update found a name with more vowels\n",
    "            maxSoFar = count\n",
    "            result = [name]\n",
    "        \n",
    "        elif count == maxSoFar:\n",
    "            result = result + [name]\n",
    "    \n",
    "    return result"
   ]
  },
  {
   "cell_type": "code",
   "execution_count": null,
   "metadata": {},
   "outputs": [],
   "source": [
    "mostVowels([\"Lida\", \"Mark\", \"Rohit\", \"Anna\", \"Genevieve\", \"Maximilian\"])"
   ]
  }
 ],
 "metadata": {
  "kernelspec": {
   "display_name": "Python 3",
   "language": "python",
   "name": "python3"
  },
  "language_info": {
   "codemirror_mode": {
    "name": "ipython",
    "version": 3
   },
   "file_extension": ".py",
   "mimetype": "text/x-python",
   "name": "python",
   "nbconvert_exporter": "python",
   "pygments_lexer": "ipython3",
   "version": "3.10.9"
  },
  "vscode": {
   "interpreter": {
    "hash": "93c843fa688db2cf10ee06edcee2e24de13e9806bcfe66c2febf0a33cc2802c1"
   }
  }
 },
 "nbformat": 4,
 "nbformat_minor": 1
}
